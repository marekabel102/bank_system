{
 "cells": [
  {
   "cell_type": "code",
   "execution_count": 1,
   "id": "5b74945e-d31f-4917-86da-ed591fc87ed4",
   "metadata": {},
   "outputs": [],
   "source": [
    "def bank_system():\n",
    "    name = input(\"Enter your name :\")\n",
    "    balance = 1000"
   ]
  },
  {
   "cell_type" : "code",
   "execution_count": 2,
   "id": "9074c78c-a42a-482b-9ae2-2559ab475608",
   "metadata" : {},
   "outputs" : [],
   "source" : [
    "def check_balance():\n",
    "    account_pin = input(\"Enter pin to confirm:\")\n",
    "    PIN = \"1717\"\n",
    "    balance = 1000\n",
    "    if account_pin == PIN :\n",
    "        result=balance\n",
    "        print(\"result\")\n",
    "    else:\n",
    "        print(\"Invalid input\")"
   ]
  },
  {
   "cell_type": "code",
   "execution_count": 3,
   "id": "2246023f-547c-40f3-8b3e-367100f4bfd9",
   "metadata": {},
   "outputs": [],
   "source": [
    "def deposit():\n",
    "    amount = input(\"Enter the amount of money to be withdrawn:\")\n",
    "    account_pin = input(\"Enter pin to confirm: \")\n",
    "    PIN = \"1717\"\n",
    "    balance = 1000\n",
    "    if account_pin == PIN:\n",
    "        result =balance + amount\n",
    "    return result"
   ]
  },
  {
   "cell_type": "code",
   "execution_count": 4,
   "id": "d4b9b860-b9ae-436e-b14b-952d56c7f6b4",
   "metadata": {},
   "outputs": [],
   "source": [
    "def withdraw():\n",
    "    amount = input(\"Enter the amount of money to be withdrawn:\")\n",
    "    account_pin = input(\"Enter pin to confirm: \")\n",
    "    PIN = \"1717\"\n",
    "    balance = 1000\n",
    "    if amount > balance and account_pin == PIN :\n",
    "        print(\"Sorry you hv Insufficient funds!Please deposit money to your account\")\n",
    "    elif amount <= balance and account_pin == PIN :\n",
    "        print(f\"You have Successfully withdrawn money K{amount} from your account\")\n",
    "    else:   \n",
    "        return balance"
   ]
  },
  {
   "cell_type": "code",
   "execution_count": null,
   "id": "cb73540d-e44c-4d0a-b8d6-61c0c39193b9",
   "metadata": {},
   "outputs": [
    {
     "name": "stdout",
     "output_type": "stream",
     "text": [
      "---\n",
      "Welcome to the Bank System\n",
      "--- 1. Create Account 2. Check Balance 3. Deposit Money 4. Withdraw Money 5. Exit\n"
     ]
    },
    {
     "name": "stdin",
     "output_type": "stream",
     "text": [
      "Enter choice:  2\n",
      "Enter pin to confirm: 1717\n"
     ]
    },
    {
     "name": "stdout",
     "output_type": "stream",
     "text": [
      "result\n",
      "---\n",
      "Welcome to the Bank System\n",
      "--- 1. Create Account 2. Check Balance 3. Deposit Money 4. Withdraw Money 5. Exit\n"
     ]
    }
   ],
   "source": [
    "def bank_menu():\n",
    "    bank = {}\n",
    "    while True:\n",
    "        print(\"---\\nWelcome to the Bank System\\n---\"\n",
    "              \" 1. Create Account\"\n",
    "              \" 2. Check Balance\"\n",
    "              \" 3. Deposit Money\"\n",
    "              \" 4. Withdraw Money\"\n",
    "              \" 5. Exit\" \n",
    "        )\n",
    "        choice = int(input(\"Enter choice: \"))\n",
    "        if choice == 1:\n",
    "            create_account()\n",
    "        elif choice == 2:\n",
    "            check_balance()\n",
    "        elif choice == 3:\n",
    "            deposit_money()\n",
    "        elif choice == 4:\n",
    "            withdraw_money()\n",
    "        elif choice == 5:\n",
    "            attempt = input(\"Do you want to exit  YES/NO ?:\")\n",
    "            if attempt == \"YES\":\n",
    "                print(\"You have exited the bank system\")\n",
    "                break\n",
    "            else:\n",
    "                print(\"Invalid input\")\n",
    "        else:\n",
    "            print(\"Invalid input\")\n",
    "            \n",
    "bank_menu()            "
   ]
  },
  {
   "cell_type": "code",
   "execution_count": null,
   "id": "efab8d64-c1c5-4073-98c4-b94531225c52",
   "metadata": {},
   "outputs": [],
   "source": []
  }
 ],
 "metadata": {
  "kernelspec": {
   "display_name": "Python 3 (ipykernel)",
   "language": "python",
   "name": "python3"
  },
  "language_info": {
   "codemirror_mode": {
    "name": "ipython",
    "version": 3
   },
   "file_extension": ".py",
   "mimetype": "text/x-python",
   "name": "python",
   "nbconvert_exporter": "python",
   "pygments_lexer": "ipython3",
   "version": "3.13.2"
  },
  "widgets": {
   "application/vnd.jupyter.widget-state+json": {
    "state": {},
    "version_major": 2,
    "version_minor": 0
   }
  }
 },
 "nbformat": 4,
 "nbformat_minor": 5
}
